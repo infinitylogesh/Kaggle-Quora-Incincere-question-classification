{
 "cells": [
  {
   "cell_type": "code",
   "execution_count": 1,
   "metadata": {
    "_cell_guid": "b1076dfc-b9ad-4769-8c92-a6c4dae69d19",
    "_uuid": "8f2839f25d086af736a60e9eeb907d3b93b6e0e5"
   },
   "outputs": [
    {
     "name": "stdout",
     "output_type": "stream",
     "text": [
      "['sample_submission.csv', 'train.csv', 'test.csv', 'embeddings']\n"
     ]
    }
   ],
   "source": [
    "# This Python 3 environment comes with many helpful analytics libraries installed\n",
    "# It is defined by the kaggle/python docker image: https://github.com/kaggle/docker-python\n",
    "# For example, here's several helpful packages to load in \n",
    "\n",
    "import numpy as np # linear algebra\n",
    "import pandas as pd # data processing, CSV file I/O (e.g. pd.read_csv)\n",
    "import hyperopt\n",
    "import tensorflow as tf\n",
    "\n",
    "# Input data files are available in the \"../input/\" directory.\n",
    "# For example, running this (by clicking run or pressing Shift+Enter) will list the files in the input directory\n",
    "\n",
    "import os\n",
    "print(os.listdir(\"../input\"))\n",
    "\n",
    "# Any results you write to the current directory are saved as output."
   ]
  },
  {
   "cell_type": "code",
   "execution_count": 2,
   "metadata": {
    "_uuid": "e31d6e126881ee56a1de3efe02fcf309e900ef00"
   },
   "outputs": [],
   "source": [
    "## some config values \n",
    "embed_size = 300 # how big is each word vector\n",
    "max_features = 95000 # how many unique words to use (i.e num rows in embedding vector)\n",
    "maxlen = 70 # max number of words in a question to use\n",
    "undersample_ratio = 1.5\n",
    "hidden_units_fold_model = 30\n",
    "hidden_units_full_model = 64"
   ]
  },
  {
   "cell_type": "markdown",
   "metadata": {
    "_uuid": "522d9790478f62193ea5c315372a2ab9cbe9b27f"
   },
   "source": [
    "**Load packages and data**"
   ]
  },
  {
   "cell_type": "code",
   "execution_count": 3,
   "metadata": {
    "_cell_guid": "79c7e3d0-c299-4dcb-8224-4455121ee9b0",
    "_uuid": "d629ff2d2480ee46fbb7e2d37f6b5fab8052498a"
   },
   "outputs": [
    {
     "name": "stderr",
     "output_type": "stream",
     "text": [
      "Using TensorFlow backend.\n"
     ]
    }
   ],
   "source": [
    "import os\n",
    "import time\n",
    "import numpy as np # linear algebra\n",
    "import pandas as pd # data processing, CSV file I/O (e.g. pd.read_csv)\n",
    "import math\n",
    "import sklearn\n",
    "from sklearn.model_selection import train_test_split\n",
    "from sklearn import metrics\n",
    "from sklearn.model_selection import GridSearchCV, StratifiedKFold\n",
    "from sklearn.metrics import f1_score, roc_auc_score\n",
    "from sklearn.preprocessing import StandardScaler\n",
    "from keras.preprocessing.text import Tokenizer\n",
    "from keras.preprocessing.sequence import pad_sequences\n",
    "from keras.layers import Dense, Input, CuDNNLSTM, Embedding, Dropout, Activation, CuDNNGRU, Conv1D, Lambda\n",
    "from keras.layers import Bidirectional, GlobalMaxPool1D, GlobalMaxPooling1D, GlobalAveragePooling1D\n",
    "from keras.layers import Input, Embedding, Dense, Conv2D, MaxPool2D, concatenate\n",
    "from keras.layers import Reshape, Flatten, Concatenate, Dropout, SpatialDropout1D\n",
    "from keras.callbacks import ModelCheckpoint,EarlyStopping\n",
    "from keras.callbacks import CSVLogger\n",
    "from keras.optimizers import Adam\n",
    "from keras.models import Model\n",
    "from keras import backend as K\n",
    "from keras.engine.topology import Layer\n",
    "from keras import initializers, regularizers, constraints, optimizers, layers\n",
    "from keras.layers import concatenate\n",
    "from datetime import timedelta\n",
    "from keras.callbacks import *"
   ]
  },
  {
   "cell_type": "code",
   "execution_count": 4,
   "metadata": {
    "_uuid": "07162fe2d3d6785fbeebbdc5e15eeeed4e0e0354"
   },
   "outputs": [],
   "source": [
    "def clean_text(df):\n",
    "    contraction_mapping = {\"ain't\": \"is not\", \"aren't\": \"are not\",\"can't\": \"cannot\", \"'cause\": \"because\", \"could've\": \"could have\", \"couldn't\": \"could not\", \"didn't\": \"did not\",  \"doesn't\": \"does not\", \"don't\": \"do not\", \"hadn't\": \"had not\", \"hasn't\": \"has not\", \"haven't\": \"have not\", \"he'd\": \"he would\",\"he'll\": \"he will\", \"he's\": \"he is\", \"how'd\": \"how did\", \"how'd'y\": \"how do you\", \"how'll\": \"how will\", \"how's\": \"how is\",  \"I'd\": \"I would\", \"I'd've\": \"I would have\", \"I'll\": \"I will\", \"I'll've\": \"I will have\",\"I'm\": \"I am\", \"I've\": \"I have\", \"i'd\": \"i would\", \"i'd've\": \"i would have\", \"i'll\": \"i will\",  \"i'll've\": \"i will have\",\"i'm\": \"i am\", \"i've\": \"i have\", \"isn't\": \"is not\", \"it'd\": \"it would\", \"it'd've\": \"it would have\", \"it'll\": \"it will\", \"it'll've\": \"it will have\",\"it's\": \"it is\", \"let's\": \"let us\", \"ma'am\": \"madam\", \"mayn't\": \"may not\", \"might've\": \"might have\",\"mightn't\": \"might not\",\"mightn't've\": \"might not have\", \"must've\": \"must have\", \"mustn't\": \"must not\", \"mustn't've\": \"must not have\", \"needn't\": \"need not\", \"needn't've\": \"need not have\",\"o'clock\": \"of the clock\", \"oughtn't\": \"ought not\", \"oughtn't've\": \"ought not have\", \"shan't\": \"shall not\", \"sha'n't\": \"shall not\", \"shan't've\": \"shall not have\", \"she'd\": \"she would\", \"she'd've\": \"she would have\", \"she'll\": \"she will\", \"she'll've\": \"she will have\", \"she's\": \"she is\", \"should've\": \"should have\", \"shouldn't\": \"should not\", \"shouldn't've\": \"should not have\", \"so've\": \"so have\",\"so's\": \"so as\", \"this's\": \"this is\",\"that'd\": \"that would\", \"that'd've\": \"that would have\", \"that's\": \"that is\", \"there'd\": \"there would\", \"there'd've\": \"there would have\", \"there's\": \"there is\", \"here's\": \"here is\",\"they'd\": \"they would\", \"they'd've\": \"they would have\", \"they'll\": \"they will\", \"they'll've\": \"they will have\", \"they're\": \"they are\", \"they've\": \"they have\", \"to've\": \"to have\", \"wasn't\": \"was not\", \"we'd\": \"we would\", \"we'd've\": \"we would have\", \"we'll\": \"we will\", \"we'll've\": \"we will have\", \"we're\": \"we are\", \"we've\": \"we have\", \"weren't\": \"were not\", \"what'll\": \"what will\", \"what'll've\": \"what will have\", \"what're\": \"what are\",  \"what's\": \"what is\", \"what've\": \"what have\", \"when's\": \"when is\", \"when've\": \"when have\", \"where'd\": \"where did\", \"where's\": \"where is\", \"where've\": \"where have\", \"who'll\": \"who will\", \"who'll've\": \"who will have\", \"who's\": \"who is\", \"who've\": \"who have\", \"why's\": \"why is\", \"why've\": \"why have\", \"will've\": \"will have\", \"won't\": \"will not\", \"won't've\": \"will not have\", \"would've\": \"would have\", \"wouldn't\": \"would not\", \"wouldn't've\": \"would not have\", \"y'all\": \"you all\", \"y'all'd\": \"you all would\",\"y'all'd've\": \"you all would have\",\"y'all're\": \"you all are\",\"y'all've\": \"you all have\",\"you'd\": \"you would\", \"you'd've\": \"you would have\", \"you'll\": \"you will\", \"you'll've\": \"you will have\", \"you're\": \"you are\", \"you've\": \"you have\" }\n",
    "    punct_mapping = {\"‘\": \"'\", \"₹\": \"e\", \"´\": \"'\", \"°\": \"\", \"€\": \"e\", \"™\": \"tm\", \"√\": \" sqrt \", \"×\": \"x\", \"²\": \"2\", \"—\": \"-\", \"–\": \"-\", \"’\": \"'\", \"_\": \"-\", \"`\": \"'\", '“': '\"', '”': '\"', '“': '\"', \"£\": \"e\", '∞': 'infinity', 'θ': 'theta', '÷': '/', 'α': 'alpha', '•': '.', 'à': 'a', '−': '-', 'β': 'beta', '∅': '', '³': '3', 'π': 'pi', }\n",
    "    mispell_dict = {'colour': 'color', 'centre': 'center', 'favourite': 'favorite', 'travelling': 'traveling', 'counselling': 'counseling', 'theatre': 'theater', 'cancelled': 'canceled', 'labour': 'labor', 'organisation': 'organization', 'wwii': 'world war 2', 'citicise': 'criticize', 'youtu ': 'youtube ', 'Qoura': 'Quora', 'sallary': 'salary', 'Whta': 'What', 'narcisist': 'narcissist', 'howdo': 'how do', 'whatare': 'what are', 'howcan': 'how can', 'howmuch': 'how much', 'howmany': 'how many', 'whydo': 'why do', 'doI': 'do I', 'theBest': 'the best', 'howdoes': 'how does', 'mastrubation': 'masturbation', 'mastrubate': 'masturbate', \"mastrubating\": 'masturbating', 'pennis': 'penis', 'Etherium': 'Ethereum', 'narcissit': 'narcissist', 'bigdata': 'big data', '2k17': '2017', '2k18': '2018', 'qouta': 'quota', 'exboyfriend': 'ex boyfriend', 'airhostess': 'air hostess', \"whst\": 'what', 'watsapp': 'whatsapp', 'demonitisation': 'demonetization', 'demonitization': 'demonetization', 'demonetisation': 'demonetization'}\n",
    "    punct = \"/-'?!.,#$%\\'()*+-/:;<=>@[\\\\]^_`{|}~\" + '\"\"“”’' + '∞θ÷α•à−β∅³π‘₹´°£€\\×™√²—–&'\n",
    "    \n",
    "    def clean_contractions(text, mapping):\n",
    "        specials = [\"’\", \"‘\", \"´\", \"`\"]\n",
    "        for s in specials:\n",
    "            text = text.replace(s, \"'\")\n",
    "        text = ' '.join([mapping[t] if t in mapping else t for t in text.split(\" \")])\n",
    "        return text\n",
    "    \n",
    "    def clean_special_chars(text, punct, mapping):\n",
    "        for p in mapping:\n",
    "            text = text.replace(p, mapping[p])\n",
    "        for p in punct:\n",
    "            text = text.replace(p, '{}'.format(p))\n",
    "        specials = {'\\u200b': ' ', '…': ' ... ', '\\ufeff': '', 'करना': '', 'है': ''}  # Other special characters that I have to deal with in last\n",
    "        for s in specials:\n",
    "            text = text.replace(s, specials[s])\n",
    "        return text\n",
    "    \n",
    "    def correct_spelling(x, dic):\n",
    "        for word in dic.keys():\n",
    "            x = x.replace(word, dic[word])\n",
    "        return x\n",
    "    \n",
    "    df['question_text'] = df['question_text'].apply(lambda x: x.lower())\n",
    "    df['question_text'] = df['question_text'].apply(lambda x: clean_contractions(x, contraction_mapping))\n",
    "    df['question_text'] = df['question_text'].apply(lambda x: clean_special_chars(x, punct, punct_mapping))\n",
    "    df['question_text'] = df['question_text'].apply(lambda x: correct_spelling(x, mispell_dict))\n",
    "    return df\n",
    "\n"
   ]
  },
  {
   "cell_type": "code",
   "execution_count": 5,
   "metadata": {
    "_uuid": "c4c4a1059ef0f437131399fc7a8da3b70c5c9f56"
   },
   "outputs": [],
   "source": [
    "def add_features(df):    \n",
    "    df['question_text'] = df['question_text'].apply(lambda x:str(x))\n",
    "    df['total_length'] = df['question_text'].apply(len)\n",
    "    df['capitals'] = df['question_text'].apply(lambda comment: sum(1 for c in comment if c.isupper()))\n",
    "    df['caps_vs_length'] = df.apply(lambda row: float(row['capitals'])/float(row['total_length']),\n",
    "                                axis=1)\n",
    "    df['num_words'] = df.question_text.str.count('\\S+')\n",
    "    df['num_unique_words'] = df['question_text'].apply(lambda comment: len(set(w for w in comment.split())))\n",
    "    df['words_vs_unique'] = df['num_unique_words'] / df['num_words']  \n",
    "    return df"
   ]
  },
  {
   "cell_type": "code",
   "execution_count": 6,
   "metadata": {
    "_uuid": "2b0718828fa194babce327e0f6029fc8dca0d13c"
   },
   "outputs": [],
   "source": [
    "def split_df(df):\n",
    "    qid = df[\"qid\"].values\n",
    "    qid_train,qid_val = train_test_split(qid,test_size=0.20,random_state=2019)\n",
    "    train_df = df[df[\"qid\"].isin(qid_train)]\n",
    "    val_df = df[df[\"qid\"].isin(qid_val)]\n",
    "    return train_df.reset_index(drop=True),val_df.reset_index(drop=True)\n",
    "\n",
    "def _fuse(_df1,_df2):\n",
    "    return sklearn.utils.shuffle(pd.concat([_df1.reset_index(drop=True),_df2.reset_index(drop=True)]),random_state=2020)\n",
    "\n",
    "def split_undersample_dataset(df,undersample_ratio=1.5):\n",
    "    small_class_df = df[df[\"target\"]==1]\n",
    "    big_class_df = df[df[\"target\"]==0]\n",
    "    num_of_splits = int(len(big_class_df)/(len(small_class_df)*undersample_ratio))\n",
    "    print(\"number of splits : {}\".format(num_of_splits))\n",
    "    split_dfs = np.array_split(big_class_df,num_of_splits)\n",
    "#     split_indexes = map(lambda d:d.index.values,split_dfs)\n",
    "#     small_class_indixes = small_class_df.index.values\n",
    "    fused_splits = list(map(lambda d: _fuse(small_class_df,d) ,split_dfs))\n",
    "    return fused_splits"
   ]
  },
  {
   "cell_type": "code",
   "execution_count": 7,
   "metadata": {
    "_uuid": "5cdc95950037613c690c49b27930ae0f59eb23c3"
   },
   "outputs": [],
   "source": [
    "def load_and_prec():\n",
    "    train_df = pd.read_csv(\"../input/train.csv\")\n",
    "    test_df = pd.read_csv(\"../input/test.csv\")\n",
    "    print(\"Train shape : \",train_df.shape)\n",
    "    print(\"Test shape : \",test_df.shape)\n",
    "    \n",
    "    train_df,val_df = split_df(train_df)\n",
    "    \n",
    "#     train_df = add_features(train_df)\n",
    "#     test_df = add_features(test_df)\n",
    "    \n",
    "    train_df[\"question_text\"] = train_df[\"question_text\"].fillna(\"_##_\")\n",
    "    val_df[\"question_text\"] = val_df[\"question_text\"].fillna(\"_##_\")\n",
    "    test_df[\"question_text\"] = test_df[\"question_text\"].fillna(\"_##_\")\n",
    "\n",
    "\n",
    "#     features = train_df[['caps_vs_length', 'words_vs_unique']].fillna(0)\n",
    "#     test_features = test_df[['caps_vs_length', 'words_vs_unique']].fillna(0)\n",
    "#     ss = StandardScaler()\n",
    "#     ss.fit(np.vstack((features, test_features)))\n",
    "#     features = ss.transform(features)\n",
    "#     test_features = ss.transform(test_features)\n",
    "\n",
    "    \n",
    "    ## fill up the missing values\n",
    "\n",
    "    start_time = time.time()\n",
    "    train_df = clean_text(train_df)\n",
    "    print(\"Cleaning train X completed {}\".format(timedelta(seconds=time.time() - start_time)))\n",
    "    start_time = time.time()\n",
    "    val_df = clean_text(val_df)\n",
    "    print(\"Cleaning val X completed {}\".format(timedelta(seconds=time.time() - start_time)))\n",
    "    start_time = time.time()\n",
    "    test_df = clean_text(test_df)\n",
    "    print(\"Cleaning test X completed {}\".format(timedelta(seconds=time.time() - start_time)))\n",
    "\n",
    "\n",
    "\n",
    "    ## Tokenize the sentences\n",
    "    start_time = time.time()\n",
    "    tokenizer = Tokenizer(num_words=max_features)\n",
    "    tokenizer.fit_on_texts(list(train_df[\"question_text\"].values)+list(val_df[\"question_text\"].values)+list(test_df[\"question_text\"].values))\n",
    "    train_undersampled_splits = split_undersample_dataset(train_df,undersample_ratio)\n",
    "    train_undersampled_splits_X = list(map(lambda tus:tokenizer.texts_to_sequences(tus[\"question_text\"].values),train_undersampled_splits))\n",
    "    train_undersampled_splits_Y = list(map(lambda tus:tus[\"target\"].values,train_undersampled_splits))\n",
    "    train_X = tokenizer.texts_to_sequences(train_df[\"question_text\"].values)\n",
    "#     train_X = tokenizer.texts_to_sequences(train_X)\n",
    "    val_X = tokenizer.texts_to_sequences(val_df[\"question_text\"].values)\n",
    "    test_X = tokenizer.texts_to_sequences(test_df[\"question_text\"].values)\n",
    "    print(\"Tokenization completed\",timedelta(seconds=time.time() - start_time))\n",
    "\n",
    "    val_Y = val_df[\"target\"].values\n",
    "    train_Y = train_df[\"target\"].values\n",
    "\n",
    "    ## Pad the sentences \n",
    "    train_undersampled_splits_X = list(map(lambda tus:pad_sequences(tus, maxlen=maxlen),train_undersampled_splits_X))\n",
    "    val_X = pad_sequences(val_X, maxlen=maxlen)\n",
    "    test_X = pad_sequences(test_X, maxlen=maxlen)\n",
    "    train_X = pad_sequences(train_X, maxlen=maxlen)\n",
    "    return train_X,train_undersampled_splits_X, val_X,test_X,train_Y,train_undersampled_splits_Y,val_Y,tokenizer.word_index#,features,test_features"
   ]
  },
  {
   "cell_type": "markdown",
   "metadata": {
    "_uuid": "dba1893c267a1e7536bbf720636647d85c7e349c"
   },
   "source": [
    "**Load embeddings**"
   ]
  },
  {
   "cell_type": "code",
   "execution_count": 8,
   "metadata": {
    "_uuid": "a662716cc5fbbcc0c84019a87c52332ed8912e8d"
   },
   "outputs": [],
   "source": [
    "def build_vocab(texts):\n",
    "    sentences = texts.apply(lambda x: x.split()).values\n",
    "    vocab = {}\n",
    "    for sentence in sentences:\n",
    "        for word in sentence:\n",
    "            try:\n",
    "                vocab[word] += 1\n",
    "            except KeyError:\n",
    "                vocab[word] = 1\n",
    "    return vocab\n",
    "\n",
    "\n",
    "def add_lower(embedding, vocab):\n",
    "    count = 0\n",
    "    for word in vocab:\n",
    "        if word in embedding and word.lower() not in embedding:  \n",
    "            embedding[word.lower()] = embedding[word]\n",
    "            count += 1\n",
    "    print(\"Added {} words to embedding\".format(count))\n",
    "    return embedding\n",
    "\n",
    "def load_glove(word_index):\n",
    "    EMBEDDING_FILE = '../input/embeddings/glove.840B.300d/glove.840B.300d.txt'\n",
    "    def get_coefs(word,*arr): return word, np.asarray(arr, dtype='float32')\n",
    "    embeddings_index = dict(get_coefs(*o.split(\" \")) for o in open(EMBEDDING_FILE))\n",
    "#     embeddings_index = add_lower(embeddings_index,list(original_vocab.keys()))\n",
    "    all_embs = np.stack(embeddings_index.values())\n",
    "    emb_mean,emb_std = all_embs.mean(), all_embs.std()\n",
    "    embed_size = all_embs.shape[1]\n",
    "\n",
    "    # word_index = tokenizer.word_index\n",
    "    nb_words = min(max_features, len(word_index))\n",
    "    embedding_matrix = np.random.normal(emb_mean, emb_std, (nb_words, embed_size))\n",
    "    for word, i in word_index.items():\n",
    "        if i >= max_features: continue\n",
    "        embedding_vector = embeddings_index.get(word)\n",
    "        if embedding_vector is not None: embedding_matrix[i] = embedding_vector\n",
    "            \n",
    "    return embedding_matrix \n",
    "    \n",
    "def load_fasttext(word_index):    \n",
    "    EMBEDDING_FILE = '../input/embeddings/wiki-news-300d-1M/wiki-news-300d-1M.vec'\n",
    "    def get_coefs(word,*arr): return word, np.asarray(arr, dtype='float32')\n",
    "    embeddings_index = dict(get_coefs(*o.split(\" \")) for o in open(EMBEDDING_FILE, encoding=\"utf8\", errors='ignore') if len(o)>100)\n",
    "#     embeddings_index = add_lower(embeddings_index,list(original_vocab.keys()))\n",
    "    all_embs = np.stack(embeddings_index.values())\n",
    "    emb_mean,emb_std = all_embs.mean(), all_embs.std()\n",
    "    embed_size = all_embs.shape[1]\n",
    "\n",
    "    # word_index = tokenizer.word_index\n",
    "    nb_words = min(max_features, len(word_index))\n",
    "    embedding_matrix = np.random.normal(emb_mean, emb_std, (nb_words, embed_size))\n",
    "    for word, i in word_index.items():\n",
    "        if i >= max_features: continue\n",
    "        embedding_vector = embeddings_index.get(word)\n",
    "        if embedding_vector is not None: embedding_matrix[i] = embedding_vector\n",
    "\n",
    "    return embedding_matrix\n",
    "\n",
    "def load_para(word_index):\n",
    "    EMBEDDING_FILE = '../input/embeddings/paragram_300_sl999/paragram_300_sl999.txt'\n",
    "    def get_coefs(word,*arr): return word, np.asarray(arr, dtype='float32')\n",
    "    embeddings_index = dict(get_coefs(*o.split(\" \")) for o in open(EMBEDDING_FILE, encoding=\"utf8\", errors='ignore') if len(o)>100)\n",
    "#     embeddings_index = add_lower(embeddings_index,list(original_vocab.keys()))\n",
    "    all_embs = np.stack(embeddings_index.values())\n",
    "    emb_mean,emb_std = all_embs.mean(), all_embs.std()\n",
    "    embed_size = all_embs.shape[1]\n",
    "\n",
    "    # word_index = tokenizer.word_index\n",
    "    nb_words = min(max_features, len(word_index))\n",
    "    embedding_matrix = np.random.normal(emb_mean, emb_std, (nb_words, embed_size))\n",
    "    for word, i in word_index.items():\n",
    "        if i >= max_features: continue\n",
    "        embedding_vector = embeddings_index.get(word)\n",
    "        if embedding_vector is not None: embedding_matrix[i] = embedding_vector\n",
    "    \n",
    "    return embedding_matrix"
   ]
  },
  {
   "cell_type": "markdown",
   "metadata": {
    "_uuid": "5a676c3a275514a3351edf306e02d832a5f39317"
   },
   "source": [
    "**Attention layer**"
   ]
  },
  {
   "cell_type": "code",
   "execution_count": 9,
   "metadata": {
    "_uuid": "84e00df2c7b94205f5588af503f62412c48f46f3"
   },
   "outputs": [],
   "source": [
    "# https://www.kaggle.com/suicaokhoailang/lstm-attention-baseline-0-652-lb\n",
    "\n",
    "class Attention(Layer):\n",
    "    def __init__(self, step_dim,\n",
    "                 W_regularizer=None, b_regularizer=None,\n",
    "                 W_constraint=None, b_constraint=None,\n",
    "                 bias=True, **kwargs):\n",
    "        self.supports_masking = True\n",
    "        self.init = initializers.get('glorot_uniform')\n",
    "\n",
    "        self.W_regularizer = regularizers.get(W_regularizer)\n",
    "        self.b_regularizer = regularizers.get(b_regularizer)\n",
    "\n",
    "        self.W_constraint = constraints.get(W_constraint)\n",
    "        self.b_constraint = constraints.get(b_constraint)\n",
    "\n",
    "        self.bias = bias\n",
    "        self.step_dim = step_dim\n",
    "        self.features_dim = 0\n",
    "        super(Attention, self).__init__(**kwargs)\n",
    "\n",
    "    def build(self, input_shape):\n",
    "        assert len(input_shape) == 3\n",
    "\n",
    "        self.W = self.add_weight((input_shape[-1],),\n",
    "                                 initializer=self.init,\n",
    "                                 name='{}_W'.format(self.name),\n",
    "                                 regularizer=self.W_regularizer,\n",
    "                                 constraint=self.W_constraint)\n",
    "        self.features_dim = input_shape[-1]\n",
    "\n",
    "        if self.bias:\n",
    "            self.b = self.add_weight((input_shape[1],),\n",
    "                                     initializer='zero',\n",
    "                                     name='{}_b'.format(self.name),\n",
    "                                     regularizer=self.b_regularizer,\n",
    "                                     constraint=self.b_constraint)\n",
    "        else:\n",
    "            self.b = None\n",
    "\n",
    "        self.built = True\n",
    "\n",
    "    def compute_mask(self, input, input_mask=None):\n",
    "        return None\n",
    "\n",
    "    def call(self, x, mask=None):\n",
    "        features_dim = self.features_dim\n",
    "        step_dim = self.step_dim\n",
    "\n",
    "        eij = K.reshape(K.dot(K.reshape(x, (-1, features_dim)),\n",
    "                        K.reshape(self.W, (features_dim, 1))), (-1, step_dim))\n",
    "\n",
    "        if self.bias:\n",
    "            eij += self.b\n",
    "\n",
    "        eij = K.tanh(eij)\n",
    "\n",
    "        a = K.exp(eij)\n",
    "\n",
    "        if mask is not None:\n",
    "            a *= K.cast(mask, K.floatx())\n",
    "\n",
    "        a /= K.cast(K.sum(a, axis=1, keepdims=True) + K.epsilon(), K.floatx())\n",
    "\n",
    "        a = K.expand_dims(a)\n",
    "        weighted_input = x * a\n",
    "        return K.sum(weighted_input, axis=1)\n",
    "\n",
    "    def compute_output_shape(self, input_shape):\n",
    "        return input_shape[0],  self.features_dim"
   ]
  },
  {
   "cell_type": "markdown",
   "metadata": {
    "_uuid": "34bc6b787e54f497bbceb6e76553a1166740c5a2"
   },
   "source": [
    "**F1 score and CLR**"
   ]
  },
  {
   "cell_type": "code",
   "execution_count": 10,
   "metadata": {
    "_uuid": "d3c6f9010fe9db1885297a5457b6fa77f56d2b71"
   },
   "outputs": [],
   "source": [
    "def squash(x, axis=-1):\n",
    "    # s_squared_norm is really small\n",
    "    # s_squared_norm = K.sum(K.square(x), axis, keepdims=True) + K.epsilon()\n",
    "    # scale = K.sqrt(s_squared_norm)/ (0.5 + s_squared_norm)\n",
    "    # return scale * x\n",
    "    s_squared_norm = K.sum(K.square(x), axis, keepdims=True)\n",
    "    scale = K.sqrt(s_squared_norm + K.epsilon())\n",
    "    return x / scale\n",
    "\n",
    "# A Capsule Implement with Pure Keras\n",
    "class Capsule(Layer):\n",
    "    def __init__(self, num_capsule, dim_capsule, routings=3, kernel_size=(9, 1), share_weights=True,\n",
    "                 activation='default', **kwargs):\n",
    "        super(Capsule, self).__init__(**kwargs)\n",
    "        self.num_capsule = num_capsule\n",
    "        self.dim_capsule = dim_capsule\n",
    "        self.routings = routings\n",
    "        self.kernel_size = kernel_size\n",
    "        self.share_weights = share_weights\n",
    "        if activation == 'default':\n",
    "            self.activation = squash\n",
    "        else:\n",
    "            self.activation = Activation(activation)\n",
    "\n",
    "    def build(self, input_shape):\n",
    "        super(Capsule, self).build(input_shape)\n",
    "        input_dim_capsule = input_shape[-1]\n",
    "        if self.share_weights:\n",
    "            self.W = self.add_weight(name='capsule_kernel',\n",
    "                                     shape=(1, input_dim_capsule,\n",
    "                                            self.num_capsule * self.dim_capsule),\n",
    "                                     # shape=self.kernel_size,\n",
    "                                     initializer='glorot_uniform',\n",
    "                                     trainable=True)\n",
    "        else:\n",
    "            input_num_capsule = input_shape[-2]\n",
    "            self.W = self.add_weight(name='capsule_kernel',\n",
    "                                     shape=(input_num_capsule,\n",
    "                                            input_dim_capsule,\n",
    "                                            self.num_capsule * self.dim_capsule),\n",
    "                                     initializer='glorot_uniform',\n",
    "                                     trainable=True)\n",
    "\n",
    "    def call(self, u_vecs):\n",
    "        if self.share_weights:\n",
    "            u_hat_vecs = K.conv1d(u_vecs, self.W)\n",
    "        else:\n",
    "            u_hat_vecs = K.local_conv1d(u_vecs, self.W, [1], [1])\n",
    "\n",
    "        batch_size = K.shape(u_vecs)[0]\n",
    "        input_num_capsule = K.shape(u_vecs)[1]\n",
    "        u_hat_vecs = K.reshape(u_hat_vecs, (batch_size, input_num_capsule,\n",
    "                                            self.num_capsule, self.dim_capsule))\n",
    "        u_hat_vecs = K.permute_dimensions(u_hat_vecs, (0, 2, 1, 3))\n",
    "        # final u_hat_vecs.shape = [None, num_capsule, input_num_capsule, dim_capsule]\n",
    "\n",
    "        b = K.zeros_like(u_hat_vecs[:, :, :, 0])  # shape = [None, num_capsule, input_num_capsule]\n",
    "        for i in range(self.routings):\n",
    "            b = K.permute_dimensions(b, (0, 2, 1))  # shape = [None, input_num_capsule, num_capsule]\n",
    "            c = K.softmax(b)\n",
    "            c = K.permute_dimensions(c, (0, 2, 1))\n",
    "            b = K.permute_dimensions(b, (0, 2, 1))\n",
    "            outputs = self.activation(tf.keras.backend.batch_dot(c, u_hat_vecs, [2, 2]))\n",
    "            if i < self.routings - 1:\n",
    "                b = tf.keras.backend.batch_dot(outputs, u_hat_vecs, [2, 3])\n",
    "\n",
    "        return outputs\n",
    "\n",
    "    def compute_output_shape(self, input_shape):\n",
    "        return (None, self.num_capsule, self.dim_capsule)\n",
    "\n",
    "\n",
    "# https://www.kaggle.com/hireme/fun-api-keras-f1-metric-cyclical-learning-rate/code\n",
    "\n",
    "class CyclicLR(Callback):\n",
    "    \"\"\"This callback implements a cyclical learning rate policy (CLR).\n",
    "    The method cycles the learning rate between two boundaries with\n",
    "    some constant frequency, as detailed in this paper (https://arxiv.org/abs/1506.01186).\n",
    "    The amplitude of the cycle can be scaled on a per-iteration or \n",
    "    per-cycle basis.\n",
    "    This class has three built-in policies, as put forth in the paper.\n",
    "    \"triangular\":\n",
    "        A basic triangular cycle w/ no amplitude scaling.\n",
    "    \"triangular2\":\n",
    "        A basic triangular cycle that scales initial amplitude by half each cycle.\n",
    "    \"exp_range\":\n",
    "        A cycle that scales initial amplitude by gamma**(cycle iterations) at each \n",
    "        cycle iteration.\n",
    "    For more detail, please see paper.\n",
    "    \n",
    "    # Example\n",
    "        ```python\n",
    "            clr = CyclicLR(base_lr=0.001, max_lr=0.006,\n",
    "                                step_size=2000., mode='triangular')\n",
    "            model.fit(X_train, Y_train, callbacks=[clr])\n",
    "        ```\n",
    "    \n",
    "    Class also supports custom scaling functions:\n",
    "        ```python\n",
    "            clr_fn = lambda x: 0.5*(1+np.sin(x*np.pi/2.))\n",
    "            clr = CyclicLR(base_lr=0.001, max_lr=0.006,\n",
    "                                step_size=2000., scale_fn=clr_fn,\n",
    "                                scale_mode='cycle')\n",
    "            model.fit(X_train, Y_train, callbacks=[clr])\n",
    "        ```    \n",
    "    # Arguments\n",
    "        base_lr: initial learning rate which is the\n",
    "            lower boundary in the cycle.\n",
    "        max_lr: upper boundary in the cycle. Functionally,\n",
    "            it defines original_vocabthe cycle amplitude (max_lr - base_lr).\n",
    "            The lr at any cycle is the sum of base_lr\n",
    "            and some scaling of the amplitude; therefore \n",
    "            max_lr may not actually be reached depending on\n",
    "            scaling function.\n",
    "        step_size: number of training iterations per\n",
    "            half cycle. Authors suggest setting step_size\n",
    "            2-8 x training iterations in epoch.\n",
    "        mode: one of {triangular, triangular2, exp_range}.\n",
    "            Default 'triangular'.\n",
    "            Values correspond to policies detailed above.\n",
    "            If scale_fn is not None, this argument is ignored.\n",
    "        gamma: constant in 'exp_range' scaling function:\n",
    "            gamma**(cycle iterations)\n",
    "        scale_fn: Custom scaling policy defined by a single\n",
    "            argument lambda function, where \n",
    "            0 <= scale_fn(x) <= 1 for all x >= 0.\n",
    "            mode paramater is ignored \n",
    "        scale_mode: {'cycle', 'iterations'}.\n",
    "            Defines whether scale_fn is evaluated on \n",
    "            cycle number or cycle iterations (training\n",
    "            iterations since start of cycle). Default is 'cycle'.\n",
    "    \"\"\"\n",
    "\n",
    "    def __init__(self, base_lr=0.001, max_lr=0.006, step_size=2000., mode='triangular',\n",
    "                 gamma=1., scale_fn=None, scale_mode='cycle'):\n",
    "        super(CyclicLR, self).__init__()\n",
    "\n",
    "        self.base_lr = base_lr\n",
    "        self.max_lr = max_lr\n",
    "        self.step_size = step_size\n",
    "        self.mode = mode\n",
    "        self.gamma = gamma\n",
    "        if scale_fn == None:\n",
    "            if self.mode == 'triangular':\n",
    "                self.scale_fn = lambda x: 1.\n",
    "                self.scale_mode = 'cycle'\n",
    "            elif self.mode == 'triangular2':\n",
    "                self.scale_fn = lambda x: 1/(2.**(x-1))\n",
    "                self.scale_mode = 'cycle'\n",
    "            elif self.mode == 'exp_range':\n",
    "                self.scale_fn = lambda x: gamma**(x)\n",
    "                self.scale_mode = 'iterations'\n",
    "        else:\n",
    "            self.scale_fn = scale_fn\n",
    "            self.scale_mode = scale_mode\n",
    "        self.clr_iterations = 0.\n",
    "        self.trn_iterations = 0.\n",
    "        self.history = {}\n",
    "\n",
    "        self._reset()\n",
    "\n",
    "    def _reset(self, new_base_lr=None, new_max_lr=None,\n",
    "               new_step_size=None):\n",
    "        \"\"\"Resets cycle iterations.\n",
    "        Optional boundary/step size adjustment.\n",
    "        \"\"\"\n",
    "        if new_base_lr != None:\n",
    "            self.base_lr = new_base_lr\n",
    "        if new_max_lr != None:\n",
    "            self.max_lr = new_max_lr\n",
    "        if new_step_size != None:\n",
    "            self.step_size = new_step_size\n",
    "        self.clr_iterations = 0.\n",
    "        \n",
    "    def clr(self):\n",
    "        cycle = np.floor(1+self.clr_iterations/(2*self.step_size))\n",
    "        x = np.abs(self.clr_iterations/self.step_size - 2*cycle + 1)\n",
    "        if self.scale_mode == 'cycle':\n",
    "            return self.base_lr + (self.max_lr-self.base_lr)*np.maximum(0, (1-x))*self.scale_fn(cycle)\n",
    "        else:\n",
    "            return self.base_lr + (self.max_lr-self.base_lr)*np.maximum(0, (1-x))*self.scale_fn(self.clr_iterations)\n",
    "        \n",
    "    def on_train_begin(self, logs={}):\n",
    "        logs = logs or {}\n",
    "\n",
    "        if self.clr_iterations == 0:\n",
    "            K.set_value(self.model.optimizer.lr, self.base_lr)\n",
    "        else:\n",
    "            K.set_value(self.model.optimizer.lr, self.clr())        \n",
    "            \n",
    "    def on_batch_end(self, epoch, logs=None):\n",
    "        \n",
    "        logs = logs or {}\n",
    "        self.trn_iterations += 1\n",
    "        self.clr_iterations += 1\n",
    "\n",
    "        self.history.setdefault('lr', []).append(K.get_value(self.model.optimizer.lr))\n",
    "        self.history.setdefault('iterations', []).append(self.trn_iterations)\n",
    "\n",
    "        for k, v in logs.items():\n",
    "            self.history.setdefault(k, []).append(v)\n",
    "        \n",
    "        K.set_value(self.model.optimizer.lr, self.clr())\n",
    "    \n",
    "\n",
    "def f1(y_true, y_pred):\n",
    "    '''\n",
    "    metric from here \n",
    "    https://stackoverflow.com/questions/43547402/how-to-calculate-f1-macro-in-keras\n",
    "    '''\n",
    "    def recall(y_true, y_pred):\n",
    "        \"\"\"Recall metric.\n",
    "\n",
    "        Only computes a batch-wise average of recall.\n",
    "\n",
    "        Computes the recall, a metric for multi-label classification of\n",
    "        how many relevant items are selected.\n",
    "        \"\"\"\n",
    "        true_positives = K.sum(K.round(K.clip(y_true * y_pred, 0, 1)))\n",
    "        possible_positives = K.sum(K.round(K.clip(y_true, 0, 1)))\n",
    "        recall = true_positives / (possible_positives + K.epsilon())\n",
    "        return recall\n",
    "\n",
    "    def precision(y_true, y_pred):\n",
    "        \"\"\"Precision metric.\n",
    "\n",
    "        Only computes a batch-wise average of precision.\n",
    "\n",
    "        Computes the precision, a metric for multi-label classification of\n",
    "        how many selected items are relevant.\n",
    "        \"\"\"\n",
    "        true_positives = K.sum(K.round(K.clip(y_true * y_pred, 0, 1)))\n",
    "        predicted_positives = K.sum(K.round(K.clip(y_pred, 0, 1)))\n",
    "        precision = true_positives / (predicted_positives + K.epsilon())\n",
    "        return precision\n",
    "    precision = precision(y_true, y_pred)\n",
    "    recall = recall(y_true, y_pred)\n",
    "    return 2*((precision*recall)/(precision+recall+K.epsilon()))\n"
   ]
  },
  {
   "cell_type": "markdown",
   "metadata": {
    "_uuid": "d96793d88c22274d985436e192f62970c227c324"
   },
   "source": [
    "**LSTM models**"
   ]
  },
  {
   "cell_type": "code",
   "execution_count": 11,
   "metadata": {
    "_uuid": "05164d541a0c35cae727d0338548d156efe21427"
   },
   "outputs": [],
   "source": [
    "def model_lstm_gru(embedding_matrix):\n",
    "    \n",
    "    inp = Input(shape=(maxlen,))\n",
    "    #feature_inp = Input(shape=(2,))\n",
    "    x = Embedding(max_features, embed_size, weights=[embedding_matrix], trainable=False)(inp)\n",
    "    x = SpatialDropout1D(0.5)(x)\n",
    "#     x = Bidirectional(CuDNNLSTM(64, return_sequences=True))(x)\n",
    "    y = Bidirectional(CuDNNGRU(256, return_sequences=True))(x)\n",
    "    \n",
    "#     atten_1 = Attention(maxlen)(x) # skip connect\n",
    "    atten_2 = Attention(maxlen)(y)\n",
    "    conc = Dense(16, activation=\"relu\")(atten_2)\n",
    "#     conc = concatenate([conc])\n",
    "    conc = Dropout(0.8)(conc)\n",
    "    outp = Dense(1, activation=\"sigmoid\")(conc)    \n",
    "\n",
    "    model = Model(inputs=inp, outputs=outp)\n",
    "    model.compile(loss='binary_crossentropy', optimizer='adam', metrics=[f1])\n",
    "    \n",
    "    return model"
   ]
  },
  {
   "cell_type": "code",
   "execution_count": 12,
   "metadata": {
    "_uuid": "61a6452af10fd4c113fac4f79e49e7b75bd6abdd"
   },
   "outputs": [],
   "source": [
    "def MultiHeadsAttModel(l=8*8, d=512, dv=64, dout=512, nv = 8 ):\n",
    "\n",
    "    v1 = Input(shape = (l, d))\n",
    "    q1 = Input(shape = (l, d))\n",
    "    k1 = Input(shape = (l, d))\n",
    "\n",
    "    v2 = Dense(dv*nv, activation = \"relu\")(v1)\n",
    "    q2 = Dense(dv*nv, activation = \"relu\")(q1)\n",
    "    k2 = Dense(dv*nv, activation = \"relu\")(k1)\n",
    "\n",
    "    v = Reshape([l, nv, dv])(v2)\n",
    "    q = Reshape([l, nv, dv])(q2)\n",
    "    k = Reshape([l, nv, dv])(k2)\n",
    "        \n",
    "    att = Lambda(lambda x: K.batch_dot(x[0],x[1] ,axes=[-1,-1]) / np.sqrt(dv),\n",
    "                 output_shape=(l, nv, nv))([q,k])# l, nv, nv\n",
    "    att = Lambda(lambda x:  K.softmax(x) , output_shape=(l, nv, nv))(att)\n",
    "\n",
    "    out = Lambda(lambda x: K.batch_dot(x[0], x[1],axes=[4,3]),  output_shape=(l, nv, dv))([att, v])\n",
    "    out = Reshape([l, d])(out)\n",
    "    \n",
    "    out = Add()([out, q1])\n",
    "\n",
    "    out = Dense(dout, activation = \"relu\")(out)\n",
    "\n",
    "    return  Model(inputs=[q1,k1,v1], outputs=out)"
   ]
  },
  {
   "cell_type": "code",
   "execution_count": 13,
   "metadata": {
    "_uuid": "ffb07353f206a3ec4f1e68fa7be0c8aa0ed1edc7"
   },
   "outputs": [],
   "source": [
    "# c = Embedding(max_features, embed_size, weights=[embedding_matrix], trainable=False)(K.variable(value=train_undersampled_splits_X[0][:2]))\n",
    "# # attn = MultiHeadsAttModel(l=2, d=256, dv=64, dout=512, nv = 8 )\n",
    "# d=300 \n",
    "# dv=64\n",
    "# dout=300\n",
    "# l=140\n",
    "# nv = 8 \n",
    "# v2 = Dense(dv*nv, activation = \"relu\")(c)\n",
    "# q2 = Dense(dv*nv, activation = \"relu\")(c)\n",
    "# k2 = Dense(dv*nv, activation = \"relu\")(c)\n",
    "\n",
    "# v = Reshape([l, nv, dv])(v2)\n",
    "# # q = Reshape([l, nv, dv])(q2)\n",
    "# # k = Reshape([l, nv, dv])(k2)\n",
    "\n",
    "# # att = Lambda(lambda x: K.batch_dot(x[0],x[1] ,axes=[-1,-1]) / np.sqrt(dv),\n",
    "# #              output_shape=(l, nv, nv))([q,k])# l, nv, nv\n",
    "\n",
    "# np.shape(K.eval(v2))\n",
    "# # att = Lambda(lambda x:  K.softmax(x) , output_shape=(l, nv, nv))(att)\n"
   ]
  },
  {
   "cell_type": "code",
   "execution_count": 14,
   "metadata": {
    "_uuid": "2bdd82294e64379c5971e41743d012ac4999a61b"
   },
   "outputs": [],
   "source": [
    "def model_lstm_atten(embedding_matrix,dropout=0.1,hu=40):\n",
    "    \n",
    "    inp = Input(shape=(maxlen,))\n",
    "    x = Embedding(max_features, embed_size, weights=[embedding_matrix], trainable=False)(inp)\n",
    "    x = SpatialDropout1D(0.1)(x)\n",
    "    x = Bidirectional(CuDNNLSTM(hu, return_sequences=True,kernel_initializer=initializers.glorot_normal(seed=12300), recurrent_initializer=initializers.orthogonal(gain=1.0, seed=10000)))(x)\n",
    "    y = Bidirectional(CuDNNGRU(hu, return_sequences=True,kernel_initializer=initializers.glorot_normal(seed=12300), recurrent_initializer=initializers.orthogonal(gain=1.0, seed=10000)))(x)\n",
    "    z = Capsule(num_capsule=hu, dim_capsule=2, routings=4, share_weights=True)(y)\n",
    "    z = Reshape((-1,))(z)\n",
    "    atten_1 = Attention(maxlen)(x) # skip connect\n",
    "    atten_2 = Attention(maxlen)(y)\n",
    "    avg_pool = GlobalAveragePooling1D()(y)\n",
    "    max_pool = GlobalMaxPooling1D()(y)\n",
    "    \n",
    "    conc = concatenate([atten_1, atten_2, avg_pool, max_pool,z])\n",
    "#     conc = BatchNormalization()(conc)\n",
    "    conc = Dense(16, activation=\"relu\")(conc)\n",
    "    conc = Dropout(dropout)(conc)\n",
    "    outp = Dense(1, activation=\"sigmoid\")(conc)    \n",
    "\n",
    "    model = Model(inputs=inp, outputs=outp)\n",
    "    model.compile(loss='binary_crossentropy', optimizer='adam', metrics=[f1])\n",
    "    return model"
   ]
  },
  {
   "cell_type": "markdown",
   "metadata": {
    "_uuid": "a8c857424e9c9f1703a71c1c0ade28713314dd29"
   },
   "source": [
    "**Train and predict**"
   ]
  },
  {
   "cell_type": "markdown",
   "metadata": {
    "_uuid": "f79081928ca032fbfe3b90c6d3ce91cf57d443d8"
   },
   "source": [
    "**Main part: load, train, pred and blend**"
   ]
  },
  {
   "cell_type": "code",
   "execution_count": 15,
   "metadata": {
    "_uuid": "99d03d2eb63600f1b222522616eab3fa35819f37"
   },
   "outputs": [
    {
     "name": "stdout",
     "output_type": "stream",
     "text": [
      "Train shape :  (1306122, 3)\n",
      "Test shape :  (56370, 2)\n",
      "Cleaning train X completed 0:00:43.121611\n",
      "Cleaning val X completed 0:00:10.781848\n",
      "Cleaning test X completed 0:00:02.298315\n",
      "number of splits : 10\n",
      "Tokenization completed 0:01:34.657874\n",
      "load and prec cooriginal_vocabmpleted 0:02:52.705689\n"
     ]
    },
    {
     "name": "stderr",
     "output_type": "stream",
     "text": [
      "/opt/conda/lib/python3.6/site-packages/ipykernel_launcher.py:27: FutureWarning: arrays to stack must be passed as a \"sequence\" type such as list or tuple. Support for non-sequence iterables such as generators is deprecated as of NumPy 1.16 and will raise an error in the future.\n"
     ]
    },
    {
     "name": "stdout",
     "output_type": "stream",
     "text": [
      "glove completed 0:03:17.192658\n"
     ]
    },
    {
     "name": "stderr",
     "output_type": "stream",
     "text": [
      "/opt/conda/lib/python3.6/site-packages/ipykernel_launcher.py:65: FutureWarning: arrays to stack must be passed as a \"sequence\" type such as list or tuple. Support for non-sequence iterables such as generators is deprecated as of NumPy 1.16 and will raise an error in the future.\n"
     ]
    },
    {
     "name": "stdout",
     "output_type": "stream",
     "text": [
      "para completed 0:02:30.743794\n"
     ]
    }
   ],
   "source": [
    "start_time = time.time()\n",
    "train_X,train_undersampled_splits_X, val_X, test_X,train_Y,train_undersampled_splits_Y,val_Y, word_index = load_and_prec()\n",
    "print(\"load and prec cooriginal_vocabmpleted {}\".format(timedelta(seconds=time.time() - start_time)))\n",
    "\n",
    "start_time = time.time()\n",
    "embedding_matrix_1 = load_glove(word_index)\n",
    "print(\"glove completed {}\".format(timedelta(seconds=time.time() - start_time)))\n",
    "\n",
    "# start_time = time.time()\n",
    "# embedding_matrix_2 = load_fasttext(word_index,original_vocab)\n",
    "# print(\"fast text completed \",timedelta(seconds=time.time() - start_time))\n",
    "\n",
    "\n",
    "start_time = time.time()\n",
    "embedding_matrix_3 = load_para(word_index)\n",
    "print(\"para completed {}\".format(timedelta(seconds=time.time() - start_time)))\n"
   ]
  },
  {
   "cell_type": "code",
   "execution_count": 16,
   "metadata": {
    "_uuid": "f0ea9b1468bd7cd3ceead2593c641900dc3a2a77"
   },
   "outputs": [
    {
     "data": {
      "text/plain": [
       "91"
      ]
     },
     "execution_count": 16,
     "metadata": {},
     "output_type": "execute_result"
    }
   ],
   "source": [
    "## Simple average: http://aclweb.org/anthology/N18-2031\n",
    "\n",
    "# We have presented an argument for averaging as\n",
    "# a valid meta-embedding technique, and found experimental\n",
    "# performance to be close to, or in some cases \n",
    "# better than that of concatenation, with the\n",
    "# additional benefit of reduced dimensionality  \n",
    "\n",
    "\n",
    "## Unweighted DME in https://arxiv.org/pdf/1804.07983.pdf\n",
    "\n",
    "# “The downside of concatenating embeddings and \n",
    "#  giving that as input to an RNN encoder, however,\n",
    "#  is that the network then quickly becomes inefficient\n",
    "#  as we combine more and more embeddings.”\n",
    "\n",
    "import gc\n",
    "embedding_matrix = np.mean([embedding_matrix_1,embedding_matrix_3], axis = 0)\n",
    "np.shape(embedding_matrix)\n",
    "del(embedding_matrix_1)\n",
    "del(embedding_matrix_3)\n",
    "gc.collect()"
   ]
  },
  {
   "cell_type": "code",
   "execution_count": 17,
   "metadata": {
    "_uuid": "0c0c709b0f236f19b11604ce5a384807ad145d03",
    "scrolled": false
   },
   "outputs": [
    {
     "name": "stdout",
     "output_type": "stream",
     "text": [
      "Model training run - 1 \n",
      "              precision    recall  f1-score   support\n",
      "\n",
      "           0       0.99      0.93      0.96    244934\n",
      "           1       0.44      0.86      0.58     16291\n",
      "\n",
      "   micro avg       0.92      0.92      0.92    261225\n",
      "   macro avg       0.71      0.89      0.77    261225\n",
      "weighted avg       0.96      0.92      0.93    261225\n",
      "\n",
      "Model training run - 2 \n",
      "              precision    recall  f1-score   support\n",
      "\n",
      "           0       0.99      0.94      0.96    244934\n",
      "           1       0.47      0.81      0.59     16291\n",
      "\n",
      "   micro avg       0.93      0.93      0.93    261225\n",
      "   macro avg       0.73      0.88      0.78    261225\n",
      "weighted avg       0.95      0.93      0.94    261225\n",
      "\n",
      "Model training run - 3 \n",
      "              precision    recall  f1-score   support\n",
      "\n",
      "           0       0.99      0.93      0.96    244934\n",
      "           1       0.44      0.86      0.58     16291\n",
      "\n",
      "   micro avg       0.92      0.92      0.92    261225\n",
      "   macro avg       0.71      0.89      0.77    261225\n",
      "weighted avg       0.96      0.92      0.93    261225\n",
      "\n",
      "Model training run - 4 \n",
      "              precision    recall  f1-score   support\n",
      "\n",
      "           0       0.99      0.95      0.97    244934\n",
      "           1       0.51      0.82      0.63     16291\n",
      "\n",
      "   micro avg       0.94      0.94      0.94    261225\n",
      "   macro avg       0.75      0.88      0.80    261225\n",
      "weighted avg       0.96      0.94      0.95    261225\n",
      "\n",
      "Model training run - 5 \n",
      "              precision    recall  f1-score   support\n",
      "\n",
      "           0       0.99      0.92      0.96    244934\n",
      "           1       0.43      0.87      0.58     16291\n",
      "\n",
      "   micro avg       0.92      0.92      0.92    261225\n",
      "   macro avg       0.71      0.90      0.77    261225\n",
      "weighted avg       0.96      0.92      0.93    261225\n",
      "\n",
      "Model training run - 6 \n",
      "              precision    recall  f1-score   support\n",
      "\n",
      "           0       0.99      0.92      0.96    244934\n",
      "           1       0.43      0.87      0.57     16291\n",
      "\n",
      "   micro avg       0.92      0.92      0.92    261225\n",
      "   macro avg       0.71      0.90      0.76    261225\n",
      "weighted avg       0.96      0.92      0.93    261225\n",
      "\n",
      "Model training run - 7 \n",
      "              precision    recall  f1-score   support\n",
      "\n",
      "           0       0.99      0.94      0.96    244934\n",
      "           1       0.48      0.84      0.61     16291\n",
      "\n",
      "   micro avg       0.93      0.93      0.93    261225\n",
      "   macro avg       0.74      0.89      0.79    261225\n",
      "weighted avg       0.96      0.93      0.94    261225\n",
      "\n",
      "Model training run - 8 \n",
      "              precision    recall  f1-score   support\n",
      "\n",
      "           0       0.99      0.93      0.96    244934\n",
      "           1       0.45      0.86      0.59     16291\n",
      "\n",
      "   micro avg       0.93      0.93      0.93    261225\n",
      "   macro avg       0.72      0.89      0.77    261225\n",
      "weighted avg       0.96      0.93      0.94    261225\n",
      "\n",
      "Model training run - 9 \n",
      "              precision    recall  f1-score   support\n",
      "\n",
      "           0       0.99      0.94      0.96    244934\n",
      "           1       0.49      0.83      0.61     16291\n",
      "\n",
      "   micro avg       0.93      0.93      0.93    261225\n",
      "   macro avg       0.74      0.88      0.79    261225\n",
      "weighted avg       0.96      0.93      0.94    261225\n",
      "\n",
      "Model training run - 10 \n",
      "              precision    recall  f1-score   support\n",
      "\n",
      "           0       0.99      0.93      0.96    244934\n",
      "           1       0.46      0.84      0.59     16291\n",
      "\n",
      "   micro avg       0.93      0.93      0.93    261225\n",
      "   macro avg       0.72      0.89      0.78    261225\n",
      "weighted avg       0.96      0.93      0.94    261225\n",
      "\n",
      "              precision    recall  f1-score   support\n",
      "\n",
      "           0       0.98      0.98      0.98    244934\n",
      "           1       0.66      0.68      0.67     16291\n",
      "\n",
      "   micro avg       0.96      0.96      0.96    261225\n",
      "   macro avg       0.82      0.83      0.82    261225\n",
      "weighted avg       0.96      0.96      0.96    261225\n",
      "\n",
      "Training completed  2:50:14.947173\n"
     ]
    }
   ],
   "source": [
    "start_time = time.time()\n",
    "clr = CyclicLR(base_lr=0.001, max_lr=0.002,\n",
    "               step_size=300., mode='exp_range',\n",
    "               gamma=0.99994)\n",
    "reduce_err = EarlyStopping(monitor=\"val_loss\",\n",
    "                              min_delta=0,\n",
    "                              patience=2,\n",
    "                              verbose=0, mode='auto')\n",
    "\n",
    "\n",
    "def train_pred(x_fold,y_fold,val_X,val_Y,run_num,dropout,hu,epochs=10):\n",
    "    checkpoint = ModelCheckpoint(filepath=\"./child-model-{}.hdf5\".format(run_num),save_weights_only=True,save_best_only=True,monitor='val_loss', mode='min')\n",
    "    model = model_lstm_atten(embedding_matrix,dropout,hu)\n",
    "    model.fit(x_fold, y_fold, batch_size=512, epochs=epochs, validation_data=(val_X, val_Y), callbacks = [checkpoint],verbose=0)\n",
    "    model = model_lstm_atten(embedding_matrix,dropout,hu)\n",
    "    model.load_weights(\"./child-model-{}.hdf5\".format(run_num))\n",
    "    val_prediction = model.predict(val_X)\n",
    "    test_prediction = model.predict(test_X)\n",
    "    print(metrics.classification_report(y_pred= (val_prediction > 0.5).astype(int),y_true=val_Y))\n",
    "    return val_prediction,test_prediction\n",
    "\n",
    "val_preds = []\n",
    "test_preds = []\n",
    "\n",
    "for index,(x_fold,y_fold) in enumerate(zip(train_undersampled_splits_X,train_undersampled_splits_Y)):\n",
    "    print(\"Model training run - {} \".format(index+1,len(train_undersampled_splits_Y)))\n",
    "    val_prediction,test_prediction = train_pred(x_fold,y_fold,val_X,val_Y,index,dropout=0.8,hu=hidden_units_fold_model)\n",
    "    val_preds.append(val_prediction)\n",
    "    test_preds.append(test_prediction)\n",
    "\n",
    "val_prediction,test_prediction = train_pred(train_X,train_Y,val_X,val_Y,\"full\",dropout=0.1,hu=hidden_units_full_model,epochs=3)\n",
    "val_preds.append(val_prediction)\n",
    "test_preds.append(test_prediction)\n",
    "\n",
    "print(\"Training completed \",timedelta(seconds=time.time() - start_time))\n",
    "\n",
    "    "
   ]
  },
  {
   "cell_type": "code",
   "execution_count": 18,
   "metadata": {
    "_uuid": "d7bcae3084533cb50af8a96184183ed4680fa2e8"
   },
   "outputs": [],
   "source": [
    "# https://www.kaggle.com/ryanzhang/tfidf-naivebayes-logreg-baseline\n",
    "\n",
    "def threshold_search(y_true, y_proba):\n",
    "    best_threshold = 0\n",
    "    best_score = 0\n",
    "    for threshold in [i * 0.01 for i in range(100)]:\n",
    "        score = f1_score(y_true=y_true, y_pred=y_proba > threshold)\n",
    "        if score > best_score:\n",
    "            best_threshold = threshold\n",
    "            best_score = score\n",
    "    search_result = {'threshold': best_threshold, 'f1': best_score}\n",
    "    return search_result"
   ]
  },
  {
   "cell_type": "code",
   "execution_count": 19,
   "metadata": {
    "_uuid": "dfe5310c73cc512fe22428b75a222695e143c4af"
   },
   "outputs": [
    {
     "data": {
      "text/plain": [
       "(11, 261225, 1)"
      ]
     },
     "execution_count": 19,
     "metadata": {},
     "output_type": "execute_result"
    }
   ],
   "source": [
    "np.shape(val_preds)"
   ]
  },
  {
   "cell_type": "code",
   "execution_count": 20,
   "metadata": {
    "_uuid": "0219da842917f2cc34cb09f44b7a43cf5603a119"
   },
   "outputs": [
    {
     "name": "stdout",
     "output_type": "stream",
     "text": [
      "0.49605414070812903 [-0.06195746 -0.02371232 -0.03878986  0.05464179  0.04772525  0.00233804\n",
      "  0.02922704  0.02773092  0.00090431 -0.01803748  0.9035156 ]\n"
     ]
    }
   ],
   "source": [
    "from sklearn.linear_model import LinearRegression\n",
    "X = np.squeeze(val_preds)\n",
    "# X = X[...,0]\n",
    "reg = LinearRegression().fit(X.T, val_Y)\n",
    "print(reg.score(X.T, val_Y),reg.coef_)"
   ]
  },
  {
   "cell_type": "code",
   "execution_count": 21,
   "metadata": {
    "_uuid": "6ff0fec960773d0113038dc3f6f7942f072c1ac7"
   },
   "outputs": [
    {
     "name": "stderr",
     "output_type": "stream",
     "text": [
      "/opt/conda/lib/python3.6/site-packages/sklearn/metrics/classification.py:1143: UndefinedMetricWarning: F-score is ill-defined and being set to 0.0 due to no predicted samples.\n",
      "  'precision', 'predicted', average, warn_for)\n"
     ]
    },
    {
     "data": {
      "text/plain": [
       "{'threshold': 0.37, 'f1': 0.6765002804262479}"
      ]
     },
     "execution_count": 21,
     "metadata": {},
     "output_type": "execute_result"
    }
   ],
   "source": [
    "thresh = threshold_search(y_proba=X.T.dot(reg.coef_),y_true=val_Y)\n",
    "thresh"
   ]
  },
  {
   "cell_type": "code",
   "execution_count": 22,
   "metadata": {
    "_uuid": "9e8edcf3e7ea1bef94a63eff2f114742d5ce7868"
   },
   "outputs": [],
   "source": [
    "final_predictions = np.squeeze(test_preds).T.dot(reg.coef_)\n",
    "final_predictions = (final_predictions > thresh[\"threshold\"]).astype(int)"
   ]
  },
  {
   "cell_type": "code",
   "execution_count": 23,
   "metadata": {
    "_uuid": "d6f6012c790d09b4223d4c91ca4776b7815f8646"
   },
   "outputs": [],
   "source": [
    "# search_result = threshold_search(train_y, train_meta)\n",
    "# print(search_result)\n",
    "sub = pd.read_csv('../input/sample_submission.csv')\n",
    "sub.prediction = final_predictions\n",
    "sub.to_csv(\"submission.csv\", index=False)"
   ]
  }
 ],
 "metadata": {
  "kernelspec": {
   "display_name": "Python 3",
   "language": "python",
   "name": "python3"
  },
  "language_info": {
   "codemirror_mode": {
    "name": "ipython",
    "version": 3
   },
   "file_extension": ".py",
   "mimetype": "text/x-python",
   "name": "python",
   "nbconvert_exporter": "python",
   "pygments_lexer": "ipython3",
   "version": "3.6.6"
  }
 },
 "nbformat": 4,
 "nbformat_minor": 1
}
